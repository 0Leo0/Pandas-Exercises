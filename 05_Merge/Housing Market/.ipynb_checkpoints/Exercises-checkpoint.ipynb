{
 "cells": [
  {
   "cell_type": "markdown",
   "metadata": {},
   "source": [
    "# Housing Market"
   ]
  },
  {
   "cell_type": "markdown",
   "metadata": {},
   "source": [
    "### Introduction:\n",
    "\n",
    "This time we will create our own dataset with fictional numbers to describe a house market. As we are going to create random data don't try to reason of the numbers.\n",
    "\n",
    "### Step 1. Import the necessary libraries"
   ]
  },
  {
   "cell_type": "code",
   "execution_count": 2,
   "metadata": {},
   "outputs": [],
   "source": [
    "import pandas as pd\n",
    "import numpy as np "
   ]
  },
  {
   "cell_type": "markdown",
   "metadata": {},
   "source": [
    "### Step 2. Create 3 differents Series, each of length 100, as follows: \n",
    "1. The first a random number from 1 to 4 \n",
    "2. The second a random number from 1 to 3\n",
    "3. The third a random number from 10,000 to 30,000"
   ]
  },
  {
   "cell_type": "code",
   "execution_count": 3,
   "metadata": {},
   "outputs": [
    {
     "name": "stdout",
     "output_type": "stream",
     "text": [
      "0     3\n",
      "1     1\n",
      "2     2\n",
      "3     4\n",
      "4     1\n",
      "5     1\n",
      "6     4\n",
      "7     1\n",
      "8     4\n",
      "9     3\n",
      "10    2\n",
      "11    2\n",
      "12    1\n",
      "13    1\n",
      "14    3\n",
      "15    1\n",
      "16    4\n",
      "17    2\n",
      "18    4\n",
      "19    2\n",
      "20    4\n",
      "21    4\n",
      "22    4\n",
      "23    4\n",
      "24    1\n",
      "25    4\n",
      "26    1\n",
      "27    2\n",
      "28    1\n",
      "29    3\n",
      "     ..\n",
      "70    4\n",
      "71    3\n",
      "72    2\n",
      "73    4\n",
      "74    1\n",
      "75    4\n",
      "76    1\n",
      "77    2\n",
      "78    4\n",
      "79    1\n",
      "80    4\n",
      "81    2\n",
      "82    3\n",
      "83    3\n",
      "84    2\n",
      "85    4\n",
      "86    2\n",
      "87    4\n",
      "88    3\n",
      "89    2\n",
      "90    3\n",
      "91    2\n",
      "92    1\n",
      "93    2\n",
      "94    3\n",
      "95    4\n",
      "96    2\n",
      "97    2\n",
      "98    4\n",
      "99    1\n",
      "Length: 100, dtype: int32 0     3\n",
      "1     1\n",
      "2     1\n",
      "3     1\n",
      "4     1\n",
      "5     3\n",
      "6     2\n",
      "7     3\n",
      "8     2\n",
      "9     2\n",
      "10    2\n",
      "11    3\n",
      "12    1\n",
      "13    1\n",
      "14    2\n",
      "15    3\n",
      "16    3\n",
      "17    1\n",
      "18    1\n",
      "19    3\n",
      "20    1\n",
      "21    1\n",
      "22    1\n",
      "23    2\n",
      "24    2\n",
      "25    3\n",
      "26    2\n",
      "27    3\n",
      "28    2\n",
      "29    1\n",
      "     ..\n",
      "70    3\n",
      "71    3\n",
      "72    3\n",
      "73    2\n",
      "74    2\n",
      "75    1\n",
      "76    1\n",
      "77    3\n",
      "78    2\n",
      "79    2\n",
      "80    1\n",
      "81    3\n",
      "82    1\n",
      "83    3\n",
      "84    2\n",
      "85    3\n",
      "86    1\n",
      "87    1\n",
      "88    1\n",
      "89    2\n",
      "90    3\n",
      "91    3\n",
      "92    3\n",
      "93    1\n",
      "94    1\n",
      "95    1\n",
      "96    2\n",
      "97    1\n",
      "98    1\n",
      "99    1\n",
      "Length: 100, dtype: int32 0     27795\n",
      "1     14771\n",
      "2     10939\n",
      "3     29544\n",
      "4     15236\n",
      "5     29313\n",
      "6     16032\n",
      "7     28038\n",
      "8     15346\n",
      "9     11995\n",
      "10    17235\n",
      "11    10965\n",
      "12    20625\n",
      "13    27021\n",
      "14    22824\n",
      "15    23930\n",
      "16    18775\n",
      "17    24568\n",
      "18    29439\n",
      "19    17334\n",
      "20    24716\n",
      "21    27484\n",
      "22    15179\n",
      "23    17975\n",
      "24    22993\n",
      "25    25461\n",
      "26    19267\n",
      "27    14884\n",
      "28    26265\n",
      "29    23356\n",
      "      ...  \n",
      "70    21160\n",
      "71    29812\n",
      "72    29713\n",
      "73    20547\n",
      "74    20354\n",
      "75    23735\n",
      "76    16386\n",
      "77    10738\n",
      "78    20778\n",
      "79    24404\n",
      "80    26891\n",
      "81    19586\n",
      "82    11767\n",
      "83    16718\n",
      "84    13823\n",
      "85    14515\n",
      "86    15095\n",
      "87    16876\n",
      "88    23646\n",
      "89    12994\n",
      "90    20932\n",
      "91    20681\n",
      "92    25837\n",
      "93    23794\n",
      "94    11856\n",
      "95    26964\n",
      "96    21904\n",
      "97    21983\n",
      "98    12840\n",
      "99    12921\n",
      "Length: 100, dtype: int32\n"
     ]
    }
   ],
   "source": [
    "s1 = pd.Series(np.random.randint(1, high=5, size=100, dtype='l'))\n",
    "s2 = pd.Series(np.random.randint(1, high=4, size=100, dtype='l'))\n",
    "s3 = pd.Series(np.random.randint(10000, high=30001, size=100, dtype='l'))\n",
    "\n",
    "print(s1, s2, s3)"
   ]
  },
  {
   "cell_type": "markdown",
   "metadata": {},
   "source": [
    "### Step 3. Let's create a DataFrame by joinning the Series by column"
   ]
  },
  {
   "cell_type": "code",
   "execution_count": 9,
   "metadata": {},
   "outputs": [
    {
     "data": {
      "text/html": [
       "<div>\n",
       "<style scoped>\n",
       "    .dataframe tbody tr th:only-of-type {\n",
       "        vertical-align: middle;\n",
       "    }\n",
       "\n",
       "    .dataframe tbody tr th {\n",
       "        vertical-align: top;\n",
       "    }\n",
       "\n",
       "    .dataframe thead th {\n",
       "        text-align: right;\n",
       "    }\n",
       "</style>\n",
       "<table border=\"1\" class=\"dataframe\">\n",
       "  <thead>\n",
       "    <tr style=\"text-align: right;\">\n",
       "      <th></th>\n",
       "      <th>0</th>\n",
       "      <th>1</th>\n",
       "      <th>2</th>\n",
       "    </tr>\n",
       "  </thead>\n",
       "  <tbody>\n",
       "    <tr>\n",
       "      <th>0</th>\n",
       "      <td>3</td>\n",
       "      <td>3</td>\n",
       "      <td>27795</td>\n",
       "    </tr>\n",
       "    <tr>\n",
       "      <th>1</th>\n",
       "      <td>1</td>\n",
       "      <td>1</td>\n",
       "      <td>14771</td>\n",
       "    </tr>\n",
       "    <tr>\n",
       "      <th>2</th>\n",
       "      <td>2</td>\n",
       "      <td>1</td>\n",
       "      <td>10939</td>\n",
       "    </tr>\n",
       "    <tr>\n",
       "      <th>3</th>\n",
       "      <td>4</td>\n",
       "      <td>1</td>\n",
       "      <td>29544</td>\n",
       "    </tr>\n",
       "    <tr>\n",
       "      <th>4</th>\n",
       "      <td>1</td>\n",
       "      <td>1</td>\n",
       "      <td>15236</td>\n",
       "    </tr>\n",
       "  </tbody>\n",
       "</table>\n",
       "</div>"
      ],
      "text/plain": [
       "   0  1      2\n",
       "0  3  3  27795\n",
       "1  1  1  14771\n",
       "2  2  1  10939\n",
       "3  4  1  29544\n",
       "4  1  1  15236"
      ]
     },
     "execution_count": 9,
     "metadata": {},
     "output_type": "execute_result"
    }
   ],
   "source": [
    "housemkt = pd.concat([s1,s2,s3], axis=1)\n",
    "housemkt.head()"
   ]
  },
  {
   "cell_type": "markdown",
   "metadata": {},
   "source": [
    "### Step 4. Change the name of the columns to bedrs, bathrs, price_sqr_meter"
   ]
  },
  {
   "cell_type": "code",
   "execution_count": null,
   "metadata": {},
   "outputs": [],
   "source": [
    "housemkt"
   ]
  },
  {
   "cell_type": "markdown",
   "metadata": {},
   "source": [
    "### Step 5. Create a one column DataFrame with the values of the 3 Series and assign it to 'bigcolumn'"
   ]
  },
  {
   "cell_type": "code",
   "execution_count": null,
   "metadata": {},
   "outputs": [],
   "source": []
  },
  {
   "cell_type": "markdown",
   "metadata": {},
   "source": [
    "### Step 6. Ops it seems it is going only until index 99. Is it true?"
   ]
  },
  {
   "cell_type": "code",
   "execution_count": null,
   "metadata": {},
   "outputs": [],
   "source": []
  },
  {
   "cell_type": "markdown",
   "metadata": {},
   "source": [
    "### Step 7. Reindex the DataFrame so it goes from 0 to 299"
   ]
  },
  {
   "cell_type": "code",
   "execution_count": null,
   "metadata": {},
   "outputs": [],
   "source": []
  }
 ],
 "metadata": {
  "kernelspec": {
   "display_name": "Python 3",
   "language": "python",
   "name": "python3"
  },
  "language_info": {
   "codemirror_mode": {
    "name": "ipython",
    "version": 3
   },
   "file_extension": ".py",
   "mimetype": "text/x-python",
   "name": "python",
   "nbconvert_exporter": "python",
   "pygments_lexer": "ipython3",
   "version": "3.6.6"
  }
 },
 "nbformat": 4,
 "nbformat_minor": 1
}
